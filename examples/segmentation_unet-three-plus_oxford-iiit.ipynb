{
 "cells": [
  {
   "cell_type": "markdown",
   "metadata": {},
   "source": [
    "# Example: Image segmentation using customized UNET 3+"
   ]
  },
  {
   "cell_type": "code",
   "execution_count": 1,
   "metadata": {},
   "outputs": [],
   "source": [
    "import numpy as np\n",
    "from glob import glob"
   ]
  },
  {
   "cell_type": "code",
   "execution_count": 2,
   "metadata": {},
   "outputs": [],
   "source": [
    "from tensorflow import keras\n",
    "from tensorflow.keras.layers import Input, Conv2D, Dropout, Activation, UpSampling2D, GlobalMaxPooling2D, multiply\n",
    "from tensorflow.keras.backend import max"
   ]
  },
  {
   "cell_type": "markdown",
   "metadata": {},
   "source": [
    "This example requires `keras-unet-collection >= 0.0.11`:\n",
    "```\n",
    "pip install keras-unet-collection\n",
    "```"
   ]
  },
  {
   "cell_type": "code",
   "execution_count": 3,
   "metadata": {},
   "outputs": [],
   "source": [
    "from keras_unet_collection import models, base, utils"
   ]
  },
  {
   "cell_type": "code",
   "execution_count": 4,
   "metadata": {},
   "outputs": [],
   "source": [
    "# indicator of a fresh run\n",
    "first_time_running = False\n",
    "\n",
    "# user-specified working directory\n",
    "filepath = 'system/drive/oxford_iiit/'"
   ]
  },
  {
   "cell_type": "markdown",
   "metadata": {},
   "source": [
    "## The Oxford-IIIT Pets dataset\n",
    "\n",
    "This example applies the dataset of [Oxford-IIIT Pet Dataset](https://www.robots.ox.ac.uk/~vgg/data/pets/) (Parkhi et al. 2012). This dataset contains images of pets and their pixel-wise mask that indicates (1) pixels belonging to the pet, (2) pixels bordering the pet, and (3) surrounding pixels.\n",
    "\n",
    "The Oxford-IIIT Pets dataset will be downloaded and unpacked through the cell blow."
   ]
  },
  {
   "cell_type": "code",
   "execution_count": 5,
   "metadata": {},
   "outputs": [],
   "source": [
    "if first_time_running:\n",
    "    # downloading and executing data files\n",
    "    import tarfile\n",
    "    import urllib.request\n",
    "    \n",
    "    filename_image = filepath+'images.tar.gz'\n",
    "    filename_target = filepath+'annotations.tar.gz'\n",
    "    \n",
    "    urllib.request.urlretrieve('http://www.robots.ox.ac.uk/~vgg/data/pets/data/images.tar.gz', filename_image);\n",
    "    urllib.request.urlretrieve('https://www.robots.ox.ac.uk/~vgg/data/pets/data/annotations.tar.gz', filename_target);\n",
    "    \n",
    "    with tarfile.open(filename_image, \"r:gz\") as tar_io:\n",
    "        tar_io.extractall(path=filepath)\n",
    "    with tarfile.open(filename_target, \"r:gz\") as tar_io:\n",
    "        tar_io.extractall(path=filepath)"
   ]
  },
  {
   "cell_type": "markdown",
   "metadata": {},
   "source": [
    "## Customizing a segmentation model based on UNET 3+\n",
    "\n",
    "In this example, an image segmentation model is proposed to classify the pixel mask by taking the re-sized RGB images as inputs.\n",
    "\n",
    "The architecture of UNET 3+ is applied in this segmentation task. UNET 3+ is a convolutional neural network with encoder-decoder blocks, similar to the conventionally used Unet, and with technical highlights of full-scale skip connections, deep supervision, and classification-guided module (CGM). In Huang et al. (2020), UNET 3+ overperformed Unet and Unet++ in the dataset of ISBI LiTS 2017 Challenge.\n",
    "\n",
    "We specify five downsampling blocks with the number of convolution filters grows from 32 to 512. Each downsampling level consists of two convolutional layers. The upsampling block of UNET 3+ features a full-scale skip connection of five input tensors, and each tensor is originated from a different down-/upsampling level. Within the upsampling block, each input tensor is processed by a convolutional layer with 32 filters (`filter_num_skip=32`), then concatenated, and passed through another convolutional layer with 160 filters (`filter_num_aggregate=160`). The resulting tensors are collected and fed into either the next upsampling block or the output section. \n",
    "\n",
    "The code cell below configures the base architecture of this segmentation model. The input size is fixed to 128-by-128. Batch normalization is applied after each of the convolutional layers. Down- and upsampling are achieved through maxpooling and bilinear interpolation, respectively."
   ]
  },
  {
   "cell_type": "code",
   "execution_count": 6,
   "metadata": {},
   "outputs": [],
   "source": [
    "name = 'unet3plus'\n",
    "activation = 'ReLU'\n",
    "filter_num_down = [32, 64, 128, 256, 512]\n",
    "filter_num_skip = [32, 32, 32, 32]\n",
    "filter_num_aggregate = 160\n",
    "\n",
    "stack_num_down = 2\n",
    "stack_num_up = 1\n",
    "n_labels = 3\n",
    "\n",
    "# `unet_3plus_2d_base` accepts an input tensor \n",
    "# and produces output tensors from different upsampling levels\n",
    "# ---------------------------------------- #\n",
    "input_tensor = keras.layers.Input((128, 128, 3))\n",
    "# base architecture\n",
    "X_decoder = base.unet_3plus_2d_base(\n",
    "    input_tensor, filter_num_down, filter_num_skip, filter_num_aggregate, \n",
    "    stack_num_down=stack_num_down, stack_num_up=stack_num_up, activation=activation, \n",
    "    batch_norm=True, pool=True, unpool=True, name=name)"
   ]
  },
  {
   "cell_type": "markdown",
   "metadata": {},
   "source": [
    "The collected feature maps as four-dimensional tensors of (sample number, width, height, channel) are shown as follows:"
   ]
  },
  {
   "cell_type": "code",
   "execution_count": 7,
   "metadata": {},
   "outputs": [
    {
     "data": {
      "text/plain": [
       "[<tf.Tensor 'unet3plus_down_4_1_activation/Relu:0' shape=(None, 8, 8, 512) dtype=float32>,\n",
       " <tf.Tensor 'unet3plus_fusion_conv_0_0_activation/Relu:0' shape=(None, 16, 16, 160) dtype=float32>,\n",
       " <tf.Tensor 'unet3plus_fusion_conv_1_0_activation/Relu:0' shape=(None, 32, 32, 160) dtype=float32>,\n",
       " <tf.Tensor 'unet3plus_fusion_conv_2_0_activation/Relu:0' shape=(None, 64, 64, 160) dtype=float32>,\n",
       " <tf.Tensor 'unet3plus_fusion_conv_3_0_activation/Relu:0' shape=(None, 128, 128, 160) dtype=float32>]"
      ]
     },
     "execution_count": 7,
     "metadata": {},
     "output_type": "execute_result"
    }
   ],
   "source": [
    "X_decoder"
   ]
  },
  {
   "cell_type": "markdown",
   "metadata": {},
   "source": [
    "**Deep supervision**\n",
    "\n",
    "The output section of UNET 3+ consists of deep-supervision and Classification-guided Module (CGM).\n",
    "\n",
    "Deep-supervision upsamples intermediate feature maps into full-resolution and enables the back-propagation of loss values from these full-resolution branches. Based on Huang et al. (2020). The deep-supervision of UNET 3+ are organized as 3-by-3 convolutional layers followed by bilinear-interpolation-based upsampling and sigmoid output activation.\n",
    "\n",
    "The code cell below constructs the deep-supervisions. Alternatively, `keras_unet_collection.models.unet_3plus_2d` with `deep_supervision=True` produces a keras model that contatins deep-supervision branches."
   ]
  },
  {
   "cell_type": "code",
   "execution_count": 8,
   "metadata": {},
   "outputs": [],
   "source": [
    "# allocating deep supervision tensors\n",
    "OUT_stack = []\n",
    "# reverse indexing `X_decoder`, so smaller tensors have larger list indices \n",
    "X_decoder = X_decoder[::-1]\n",
    "\n",
    "# deep supervision outputs\n",
    "for i in range(1, len(X_decoder)):\n",
    "    # 3-by-3 conv2d --> upsampling --> sigmoid output activation\n",
    "    pool_size = 2**(i)\n",
    "    X = Conv2D(n_labels, 3, padding='same', name='{}_output_conv1_{}'.format(name, i-1))(X_decoder[i])\n",
    "    \n",
    "    X = UpSampling2D((pool_size, pool_size), interpolation='bilinear', \n",
    "                     name='{}_output_sup{}'.format(name, i-1))(X)\n",
    "    \n",
    "    X = Activation('sigmoid', name='{}_output_sup{}_activation'.format(name, i-1))(X)\n",
    "    # collecting deep supervision tensors\n",
    "    OUT_stack.append(X)\n",
    "\n",
    "# the final output (without extra upsampling)\n",
    "# 3-by-3 conv2d --> sigmoid output activation\n",
    "X = Conv2D(n_labels, 3, padding='same', name='{}_output_final'.format(name))(X_decoder[0])\n",
    "X = Activation('sigmoid', name='{}_output_final_activation'.format(name))(X)\n",
    "# collecting final output tensors\n",
    "OUT_stack.append(X)"
   ]
  },
  {
   "cell_type": "markdown",
   "metadata": {},
   "source": [
    "The deep-supervision and final output tensors are shown as follows:"
   ]
  },
  {
   "cell_type": "code",
   "execution_count": 9,
   "metadata": {},
   "outputs": [
    {
     "data": {
      "text/plain": [
       "[<tf.Tensor 'unet3plus_output_sup0_activation/Sigmoid:0' shape=(None, 128, 128, 3) dtype=float32>,\n",
       " <tf.Tensor 'unet3plus_output_sup1_activation/Sigmoid:0' shape=(None, 128, 128, 3) dtype=float32>,\n",
       " <tf.Tensor 'unet3plus_output_sup2_activation/Sigmoid:0' shape=(None, 128, 128, 3) dtype=float32>,\n",
       " <tf.Tensor 'unet3plus_output_sup3_activation/Sigmoid:0' shape=(None, 128, 128, 3) dtype=float32>,\n",
       " <tf.Tensor 'unet3plus_output_final_activation/Sigmoid:0' shape=(None, 128, 128, 3) dtype=float32>]"
      ]
     },
     "execution_count": 9,
     "metadata": {},
     "output_type": "execute_result"
    }
   ],
   "source": [
    "OUT_stack"
   ]
  },
  {
   "cell_type": "markdown",
   "metadata": {},
   "source": [
    "**Classification-guided Module (CGM)**\n",
    "\n",
    "Huang et al. (2020) proposed CGM for handling the over-segmentation problem. CGM takes the output tensor of the deepest downsampling level, and converts it into a *single value* that indicates the probability of the existence of the segmentation target.\n",
    "\n",
    "The code cell below adds CGM into the existing deep-supervision branches.\n",
    "\n",
    "**Note**\n",
    "\n",
    "The author of this example is unsure about if this CGM value should be trained. \n",
    "\n",
    "In Huang et al. (2020), binary cross-entropy training with \"none-organ image\" is somewhat involved. However, this is not explicitly available in the Oxford-IIIT dataset. Thus the CGM value of this example is not trained."
   ]
  },
  {
   "cell_type": "code",
   "execution_count": 10,
   "metadata": {},
   "outputs": [],
   "source": [
    "# Classification-guided Module (CGM)\n",
    "# ---------------------------------------- #\n",
    "# dropout --> 1-by-1 conv2d --> global-maxpooling --> sigmoid\n",
    "X_CGM = X_decoder[-1]\n",
    "X_CGM = Dropout(rate=0.1)(X_CGM)\n",
    "X_CGM = Conv2D(filter_num_skip[-1], 1, padding='same')(X_CGM)\n",
    "X_CGM = GlobalMaxPooling2D()(X_CGM)\n",
    "X_CGM = Activation('sigmoid')(X_CGM)\n",
    "\n",
    "CGM_mask = max(X_CGM, axis=-1) # <----- This value could be trained with \"none-organ image\"\n",
    "\n",
    "for i in range(len(OUT_stack)):\n",
    "    if i < len(OUT_stack)-1:\n",
    "        OUT_stack[i] = multiply([OUT_stack[i], CGM_mask], name='{}_output_sup{}_CGM'.format(name, i))\n",
    "    else:\n",
    "        OUT_stack[i] = multiply([OUT_stack[i], CGM_mask], name='{}_output_final_CGM'.format(name))"
   ]
  },
  {
   "cell_type": "code",
   "execution_count": 11,
   "metadata": {},
   "outputs": [
    {
     "data": {
      "text/plain": [
       "[<tf.Tensor 'unet3plus_output_sup0_CGM/mul:0' shape=(None, 128, 128, 3) dtype=float32>,\n",
       " <tf.Tensor 'unet3plus_output_sup1_CGM/mul:0' shape=(None, 128, 128, 3) dtype=float32>,\n",
       " <tf.Tensor 'unet3plus_output_sup2_CGM/mul:0' shape=(None, 128, 128, 3) dtype=float32>,\n",
       " <tf.Tensor 'unet3plus_output_sup3_CGM/mul:0' shape=(None, 128, 128, 3) dtype=float32>,\n",
       " <tf.Tensor 'unet3plus_output_final_CGM/mul:0' shape=(None, 128, 128, 3) dtype=float32>]"
      ]
     },
     "execution_count": 11,
     "metadata": {},
     "output_type": "execute_result"
    }
   ],
   "source": [
    "OUT_stack"
   ]
  },
  {
   "cell_type": "markdown",
   "metadata": {},
   "source": [
    "**Compiling the segmentation model**\n",
    "\n",
    "The segmentation model is trained with cross-entropy loss. Each deep-supervision branch contributes 12.5% of the total loss value, whereas the final output loss contribution is 50%. The Adam optimizer with a learning rate of 1E-4 is applied."
   ]
  },
  {
   "cell_type": "code",
   "execution_count": 12,
   "metadata": {},
   "outputs": [],
   "source": [
    "unet3plus = keras.models.Model([input_tensor,], OUT_stack)"
   ]
  },
  {
   "cell_type": "code",
   "execution_count": 13,
   "metadata": {},
   "outputs": [],
   "source": [
    "unet3plus.compile(loss=[keras.losses.categorical_crossentropy,\n",
    "                        keras.losses.categorical_crossentropy,\n",
    "                        keras.losses.categorical_crossentropy,\n",
    "                        keras.losses.categorical_crossentropy,\n",
    "                        keras.losses.categorical_crossentropy],\n",
    "                 loss_weights=[0.25, 0.25, 0.25, 0.25, 1.0],\n",
    "                 optimizer=keras.optimizers.Adam(lr=1e-4))"
   ]
  },
  {
   "cell_type": "markdown",
   "metadata": {},
   "source": [
    "## Data preprocessing\n",
    "\n",
    "The input of RGB images are resized to 128-by-128 through the nearest neighbour scheme, and then normalized to the interval of [0, 1]. The training target of pixel-wise masks are resized similarly.\n",
    "\n",
    "A random split is applied with 80%, 10%, 10% of the samples are assigned for training, validation, and testing, respectively."
   ]
  },
  {
   "cell_type": "code",
   "execution_count": 14,
   "metadata": {},
   "outputs": [],
   "source": [
    "def input_data_process(input_array):\n",
    "    '''converting pixel vales to [0, 1]'''\n",
    "    return input_array/255.\n",
    "\n",
    "def target_data_process(target_array):\n",
    "    '''Converting tri-mask of {1, 2, 3} to three categories.'''\n",
    "    return keras.utils.to_categorical(target_array-1)"
   ]
  },
  {
   "cell_type": "code",
   "execution_count": 15,
   "metadata": {},
   "outputs": [
    {
     "name": "stdout",
     "output_type": "stream",
     "text": [
      "Training:validation:testing = 5912:739:739\n"
     ]
    }
   ],
   "source": [
    "sample_names = np.array(sorted(glob(filepath+'images/*.jpg')))\n",
    "label_names = np.array(sorted(glob(filepath+'annotations/trimaps/*.png')))\n",
    "\n",
    "L = len(sample_names)\n",
    "ind_all = utils.shuffle_ind(L)\n",
    "\n",
    "L_train = int(0.8*L); L_valid = int(0.1*L); L_test = L - L_train - L_valid\n",
    "ind_train = ind_all[:L_train]; ind_valid = ind_all[L_train:L_train+L_valid]; ind_test = ind_all[L_train+L_valid:]\n",
    "print(\"Training:validation:testing = {}:{}:{}\".format(L_train, L_valid, L_test))"
   ]
  },
  {
   "cell_type": "code",
   "execution_count": 16,
   "metadata": {},
   "outputs": [],
   "source": [
    "valid_input = input_data_process(utils.image_to_array(sample_names[ind_valid], size=128, channel=3))\n",
    "valid_target = target_data_process(utils.image_to_array(label_names[ind_valid], size=128, channel=1))"
   ]
  },
  {
   "cell_type": "code",
   "execution_count": 17,
   "metadata": {},
   "outputs": [],
   "source": [
    "test_input = input_data_process(utils.image_to_array(sample_names[ind_test], size=128, channel=3))\n",
    "test_target = target_data_process(utils.image_to_array(label_names[ind_test], size=128, channel=1))"
   ]
  },
  {
   "cell_type": "markdown",
   "metadata": {},
   "source": [
    "## Training\n",
    "\n",
    "The segmentation model is trained with fixed 10 epoches. Each epoch containts 100 batches, which in turn consist of 32 samples.\n",
    "\n",
    "*The training process here is far from systematic, and is provided for illustration purposes only.*"
   ]
  },
  {
   "cell_type": "code",
   "execution_count": 18,
   "metadata": {},
   "outputs": [
    {
     "name": "stdout",
     "output_type": "stream",
     "text": [
      "-------------------- epoch 0 --------------------\n",
      "\tInitial loss = 1.1010552644729614\n",
      "Validation performance is improved from 1.1010552644729614 to 1.000784158706665\n",
      "-------------------- epoch 1 --------------------\n",
      "Validation performance 1.4607700109481812 is NOT improved\n",
      "-------------------- epoch 2 --------------------\n",
      "Validation performance is improved from 1.000784158706665 to 0.6417050957679749\n",
      "-------------------- epoch 3 --------------------\n",
      "Validation performance is improved from 0.6417050957679749 to 0.5571708083152771\n",
      "-------------------- epoch 4 --------------------\n",
      "Validation performance 0.6123894453048706 is NOT improved\n",
      "-------------------- epoch 5 --------------------\n",
      "Validation performance is improved from 0.5571708083152771 to 0.4432593584060669\n",
      "-------------------- epoch 6 --------------------\n",
      "Validation performance 0.5800056457519531 is NOT improved\n",
      "-------------------- epoch 7 --------------------\n",
      "Validation performance is improved from 0.4432593584060669 to 0.40517374873161316\n",
      "-------------------- epoch 8 --------------------\n",
      "Validation performance is improved from 0.40517374873161316 to 0.3858366310596466\n",
      "-------------------- epoch 9 --------------------\n",
      "Validation performance is improved from 0.3858366310596466 to 0.3841237723827362\n"
     ]
    }
   ],
   "source": [
    "N_epoch = 10 # number of epoches\n",
    "N_batch = 100 # number of batches per epoch\n",
    "N_sample = 32 # number of samples per batch\n",
    "\n",
    "tol = 0 # current early stopping patience\n",
    "max_tol = 3 # the max-allowed early stopping patience\n",
    "min_del = 0 # the lowest acceptable loss value reduction \n",
    "\n",
    "# loop over epoches\n",
    "for epoch in range(N_epoch):\n",
    "    print('-------------------- epoch {} --------------------'.format(epoch))\n",
    "    \n",
    "    # initial loss record\n",
    "    if epoch == 0:\n",
    "        temp_out = unet3plus.predict([valid_input])\n",
    "        y_pred = temp_out[-1]\n",
    "        record = np.mean(keras.losses.categorical_crossentropy(valid_target, y_pred))\n",
    "        print('\\tInitial loss = {}'.format(record))\n",
    "    \n",
    "    # loop over batches\n",
    "    for step in range(N_batch):\n",
    "        # selecting smaples for the current batch\n",
    "        ind_train_shuffle = utils.shuffle_ind(L_train)[:N_sample]\n",
    "        \n",
    "        # batch data formation\n",
    "        ## augmentation is not applied\n",
    "        train_input = input_data_process(\n",
    "            utils.image_to_array(sample_names[ind_train][ind_train_shuffle], size=128, channel=3))\n",
    "        train_target = target_data_process(\n",
    "            utils.image_to_array(label_names[ind_train][ind_train_shuffle], size=128, channel=1))\n",
    "        \n",
    "        # train on batch\n",
    "        loss_ = unet3plus.train_on_batch([train_input,], \n",
    "                                         [train_target, train_target, train_target, train_target, train_target,])\n",
    "        # ** training loss is not stored ** #\n",
    "        \n",
    "    # epoch-end validation\n",
    "    temp_out = unet3plus.predict([valid_input])\n",
    "    y_pred = temp_out[-1]\n",
    "    record_temp = np.mean(keras.losses.categorical_crossentropy(valid_target, y_pred))\n",
    "    # ** validation loss is not stored ** #\n",
    "    \n",
    "    # if loss is reduced\n",
    "    if record - record_temp > min_del:\n",
    "        print('Validation performance is improved from {} to {}'.format(record, record_temp))\n",
    "        record = record_temp; # update the loss record\n",
    "        tol = 0; # refresh early stopping patience\n",
    "        # ** model checkpoint is not stored ** #\n",
    "\n",
    "    # if loss not reduced\n",
    "    else:\n",
    "        print('Validation performance {} is NOT improved'.format(record_temp))\n",
    "        tol += 1\n",
    "        if tol >= max_tol:\n",
    "            print('Early stopping')\n",
    "            break;\n",
    "        else:\n",
    "            # Pass to the next epoch\n",
    "            continue;"
   ]
  },
  {
   "cell_type": "markdown",
   "metadata": {},
   "source": [
    "## Evaluation\n",
    "\n",
    "The testing set performance is evaluated with cross-entropy and example outputs."
   ]
  },
  {
   "cell_type": "code",
   "execution_count": 19,
   "metadata": {},
   "outputs": [],
   "source": [
    "temp_out = unet3plus.predict([test_input])\n",
    "y_pred = temp_out[-1]"
   ]
  },
  {
   "cell_type": "code",
   "execution_count": 20,
   "metadata": {},
   "outputs": [
    {
     "name": "stdout",
     "output_type": "stream",
     "text": [
      "Testing set cross-entropy = 0.3662487268447876\n"
     ]
    }
   ],
   "source": [
    "print('Testing set cross-entropy = {}'.format(np.mean(keras.losses.categorical_crossentropy(test_target, y_pred))))"
   ]
  },
  {
   "cell_type": "markdown",
   "metadata": {},
   "source": [
    "**Example of outputs**"
   ]
  },
  {
   "cell_type": "code",
   "execution_count": 21,
   "metadata": {},
   "outputs": [],
   "source": [
    "import matplotlib.pyplot as plt\n",
    "%matplotlib inline"
   ]
  },
  {
   "cell_type": "code",
   "execution_count": 22,
   "metadata": {},
   "outputs": [],
   "source": [
    "def ax_decorate_box(ax):\n",
    "    [j.set_linewidth(0) for j in ax.spines.values()]\n",
    "    ax.tick_params(axis=\"both\", which=\"both\", bottom=False, top=False, \\\n",
    "               labelbottom=False, left=False, right=False, labelleft=False)\n",
    "    return ax"
   ]
  },
  {
   "cell_type": "code",
   "execution_count": 23,
   "metadata": {},
   "outputs": [
    {
     "data": {
      "image/png": "[encoded data removed]",
      "text/plain": [
       "<Figure size 936x230.4 with 4 Axes>"
      ]
     },
     "metadata": {},
     "output_type": "display_data"
    }
   ],
   "source": [
    "i_sample = 0\n",
    "\n",
    "fig, AX = plt.subplots(1, 4, figsize=(13, (13-0.2)/4))\n",
    "plt.subplots_adjust(0, 0, 1, 1, hspace=0, wspace=0.1)\n",
    "for ax in AX:\n",
    "    ax = ax_decorate_box(ax)\n",
    "AX[0].pcolormesh(np.mean(test_input[i_sample, ...,], axis=-1), cmap=plt.cm.gray)\n",
    "AX[1].pcolormesh(y_pred[i_sample, ..., 0], cmap=plt.cm.jet)\n",
    "AX[2].pcolormesh(y_pred[i_sample, ..., 1], cmap=plt.cm.jet)\n",
    "AX[3].pcolormesh(y_pred[i_sample, ..., 2], cmap=plt.cm.jet)\n",
    "\n",
    "AX[0].set_title(\"Original\", fontsize=14);\n",
    "AX[1].set_title(\"Pixels belong to the object\", fontsize=14);\n",
    "AX[2].set_title(\"Surrounding pixels\", fontsize=14);\n",
    "AX[3].set_title(\"Bordering pixels\", fontsize=14);"
   ]
  },
  {
   "cell_type": "markdown",
   "metadata": {},
   "source": [
    "## Discussion\n",
    "\n",
    "A segmentation model is proposed based on the architecture of UNET 3+ and is trained using the Oxford-IIIT Pets dataset. Result evaluation indicates that this segmentation model can distinguish pixes of a pet from image backgrounds.\n",
    "\n",
    "Many technical details of this work, for example, network hyper-parameters and training strategy, can be improved for achieving better performance. "
   ]
  },
  {
   "cell_type": "markdown",
   "metadata": {},
   "source": [
    "**Reference**\n",
    "\n",
    "* Parkhi, O.M., Vedaldi, A., Zisserman, A. and Jawahar, C.V., 2012, June. Cats and dogs. In 2012 IEEE conference on computer vision and pattern recognition (pp. 3498-3505). IEEE.\n",
    "\n",
    "* Huang, H., Lin, L., Tong, R., Hu, H., Zhang, Q., Iwamoto, Y., Han, X., Chen, Y.W. and Wu, J., 2020, May. UNet 3+: A Full-Scale Connected UNet for Medical Image Segmentation. In ICASSP 2020-2020 IEEE International Conference on Acoustics, Speech and Signal Processing (ICASSP) (pp. 1055-1059). IEEE."
   ]
  },
  {
   "cell_type": "code",
   "execution_count": null,
   "metadata": {},
   "outputs": [],
   "source": []
  }
 ],
 "metadata": {
  "kernelspec": {
   "display_name": "Python 3",
   "language": "python",
   "name": "python3"
  },
  "language_info": {
   "codemirror_mode": {
    "name": "ipython",
    "version": 3
   },
   "file_extension": ".py",
   "mimetype": "text/x-python",
   "name": "python",
   "nbconvert_exporter": "python",
   "pygments_lexer": "ipython3",
   "version": "3.6.8"
  }
 },
 "nbformat": 4,
 "nbformat_minor": 4
}
